{
 "cells": [
  {
   "cell_type": "code",
   "execution_count": null,
   "id": "d9183168",
   "metadata": {
    "scrolled": true
   },
   "outputs": [],
   "source": [
    "!pip install gym\n",
    "!pip install gym[classic_control]\n",
    "!pip install matplotlib"
   ]
  },
  {
   "cell_type": "code",
   "execution_count": 51,
   "id": "7f48bd64",
   "metadata": {},
   "outputs": [],
   "source": [
    "import gym\n",
    "import random\n",
    "import matplotlib.pyplot as plt\n",
    "from IPython import display\n",
    "%matplotlib inline"
   ]
  },
  {
   "cell_type": "code",
   "execution_count": 52,
   "id": "7721d54d",
   "metadata": {
    "scrolled": false
   },
   "outputs": [],
   "source": [
    "env = gym.make(\"CartPole-v1\") #return object representing the simulation (env)"
   ]
  },
  {
   "cell_type": "code",
   "execution_count": 61,
   "id": "ea61b402",
   "metadata": {},
   "outputs": [],
   "source": [
    "class Agent:\n",
    "    def __init__(self, env):\n",
    "        self.action_size = env.action_space.n\n",
    "        \n",
    "    def get_action(self, state):\n",
    "        #action = random.choice(range(self.action_size))\n",
    "        print(state)\n",
    "        pole_angle = state[0][2]\n",
    "        action = 0 if pole_angle < 0 else 1\n",
    "        return action"
   ]
  },
  {
   "cell_type": "code",
   "execution_count": null,
   "id": "296f5e66",
   "metadata": {},
   "outputs": [],
   "source": [
    "agent = Agent(env)\n",
    "state = env.reset() #reset the environment to its initial state AND start the simulation\n",
    "#print(state)\n",
    "\n",
    "for _ in range(200):\n",
    "    #action = env.action_space.sample() #get random action\n",
    "    action = agent.get_action(state)\n",
    "    state = env.step(action)\n",
    "    env.render() #to vosualize the simulation"
   ]
  }
 ],
 "metadata": {
  "kernelspec": {
   "display_name": "Python 3 (ipykernel)",
   "language": "python",
   "name": "python3"
  },
  "language_info": {
   "codemirror_mode": {
    "name": "ipython",
    "version": 3
   },
   "file_extension": ".py",
   "mimetype": "text/x-python",
   "name": "python",
   "nbconvert_exporter": "python",
   "pygments_lexer": "ipython3",
   "version": "3.9.2"
  }
 },
 "nbformat": 4,
 "nbformat_minor": 5
}
